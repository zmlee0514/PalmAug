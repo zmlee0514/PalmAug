{
 "cells": [
  {
   "cell_type": "code",
   "execution_count": 2,
   "metadata": {},
   "outputs": [
    {
     "name": "stdout",
     "output_type": "stream",
     "text": [
      "# conda environments:\n",
      "#\n",
      "base                  *  /home/tonic/miniconda3\n",
      "CompNet                  /home/tonic/miniconda3/envs/CompNet\n",
      "labelme                  /home/tonic/miniconda3/envs/labelme\n",
      "\n"
     ]
    }
   ],
   "source": [
    "!conda env list"
   ]
  },
  {
   "cell_type": "code",
   "execution_count": 1,
   "metadata": {
    "ExecuteTime": {
     "end_time": "2020-09-12T16:18:16.710143Z",
     "start_time": "2020-09-12T16:18:16.310648Z"
    }
   },
   "outputs": [],
   "source": [
    "import cv2\n",
    "import numpy as np\n",
    "import matplotlib.pyplot as plt\n",
    "import glob\n",
    "import os\n",
    "from IPython.display import clear_output\n"
   ]
  },
  {
   "cell_type": "code",
   "execution_count": 30,
   "metadata": {},
   "outputs": [
    {
     "name": "stdout",
     "output_type": "stream",
     "text": [
      "(2, 3)\n",
      "(2, 3)\n",
      "float64\n"
     ]
    }
   ],
   "source": [
    "p = [[405,  27], [627,  80]]\n",
    "M = [[-2.32212816e-01,  9.72665003e-01,  1.85585626e+02], [-9.72665003e-01, -2.32212816e-01,  9.17229846e+02]]\n",
    "m_arr = np.array(M)\n",
    "p_arr = np.array(p)\n",
    "p_arr = np.append(p_arr, np.ones([p_arr.shape[0], 1]), axis=1)\n",
    "print(p_arr.shape)\n",
    "print(m_arr.shape)\n",
    "print(np.matmul(p_arr, m_arr.T).round().dtype)"
   ]
  },
  {
   "cell_type": "code",
   "execution_count": null,
   "metadata": {},
   "outputs": [],
   "source": [
    "def extractROI(image, valley_points, save_path, name):\n",
    "    # calculate angle    \n",
    "    vector = np.array(valley_points[1]) - np.array(valley_points[0])\n",
    "    unit_vector = vector / np.linalg.norm(vector)\n",
    "    rad = np.arccos(np.dot(unit_vector, np.array([0,-1])))\n",
    "    angle = np.rad2deg(rad)\n",
    "    print(\"angle: {.2f}\".format(angle))\n",
    "    \n",
    "    # compute rotation matrix\n",
    "    h, w, dim = image.shape\n",
    "    center = (w / 2, h / 2)\n",
    "    M = cv2.getRotationMatrix2D(center, angle, 1.0)\n",
    "  \n",
    "    # compute the new bounding dimensions of the image\n",
    "    cos = np.abs(M[0, 0])\n",
    "    sin = np.abs(M[0, 1])\n",
    "    nW = int((h * sin) + (w * cos))\n",
    "    nH = int((h * cos) + (w * sin))\n",
    "    # adjust the rotation matrix to take into account translation\n",
    "    M[0, 2] += (nW / 2) - center[0]\n",
    "    M[1, 2] += (nH / 2) - center[1]\n",
    "    \n",
    "    # rotate image and show result\n",
    "    rotated_image = cv2.warpAffine(image, M, (nW, nH))\n",
    "    # cv2.imshow(\"rotated image\", rotated_image)\n",
    "    \n",
    "    # Transfrom the point from original to rotated image\n",
    "    points_arr = np.array(valley_points)\n",
    "    points_arr = np.append(points_arr, np.ones([points_arr.shape[0], 1]), axis=1)\n",
    "    rotated_points = np.matmul(points_arr, np.array(M).T)\n",
    "    print(rotated_points)\n",
    "    \n",
    "    # clip image\n",
    "    # because points selected from left to right, so the second point is upper point\n",
    "    distance = np.abs(rotated_points[0,1] - rotated_points[1,1])\n",
    "    up_left_x = rotated_points[1,0] + 0.2*distance\n",
    "    up_left_y = rotated_points[1,1] - 0.2*distance\n",
    "    ROI = rotated_image[round(up_left_y):round(up_left_y+1.4*distance) ,round(up_left_x):round(up_left_x+1.4*distance)]\n",
    "    ROI_resized = cv2.resize(ROI, (224, 224), interpolation=cv2.INTER_AREA)\n",
    "    \n",
    "#     cv2.circle(rotated_image, rotated_points[0].round().astype(\"int32\"), 3, (0,0,255), 5, 16)\n",
    "#     cv2.circle(rotated_image, rotated_points[1].round().astype(\"int32\"), 3, (0,0,255), 5, 16)\n",
    "#     cv2.rectangle(rotated_image, (round(up_left_x),round(up_left_y)), (round(up_left_x+1.4*distance),round(up_left_y+1.4*distance)), (0,0,255), 5)\n",
    "#     cv2.imshow(\"marked rotated image\", rotated_image)\n",
    "#     cv2.imshow(\"ROI\", ROI)\n",
    "    \n",
    "#     cv2.waitKey()\n",
    "#     cv2.destroyAllWindows()\n",
    "    \n",
    "    # save image\n",
    "    if not os.path.isdir(save_path):\n",
    "        os.makedirs(save_path)\n",
    "    cv2.imwrite(os.path.join(save_path, name), ROI_resized)"
   ]
  },
  {
   "cell_type": "code",
   "execution_count": 12,
   "metadata": {},
   "outputs": [],
   "source": [
    "def mouse_handler(event, x, y, flags, data):\n",
    "    if event == cv2.EVENT_LBUTTONDOWN:\n",
    "        # 標記點位置\n",
    "        cv2.circle(data['img'], (x,y), 3, (0,0,255), 5, 16) \n",
    "\n",
    "        # 改變顯示 window 的內容\n",
    "        cv2.imshow(data[\"name\"], data['img'])\n",
    "        \n",
    "        # 顯示 (x,y) 並儲存到 list中\n",
    "        print(\"get points: (x, y) = ({}, {})\".format(x, y))\n",
    "        data['points'].append((x,y))\n",
    "\n",
    "def get_points(im, name):\n",
    "    # 建立 data dict, img:存放圖片, points:存放點\n",
    "    data = {}\n",
    "    data[\"name\"] = name\n",
    "    data['img'] = im.copy()\n",
    "    data['points'] = []\n",
    "    \n",
    "    # 建立一個 window\n",
    "    cv2.namedWindow(name, 0)\n",
    "    \n",
    "    # 改變 window 成為適當圖片大小\n",
    "    h, w, dim = im.shape\n",
    "    # print(\"Img height, width: ({}, {})\".format(h, w))\n",
    "    cv2.resizeWindow(name, w, h)\n",
    "        \n",
    "    # 顯示圖片在 window 中\n",
    "    cv2.imshow(name,im)\n",
    "    \n",
    "    # 利用滑鼠回傳值，資料皆保存於 data dict中\n",
    "    cv2.setMouseCallback(name, mouse_handler, data)\n",
    "    \n",
    "    # 等待按下任意鍵，藉由 OpenCV 內建函數釋放資源\n",
    "    flag = 0\n",
    "    while True:\n",
    "        k = cv2.waitKey()\n",
    "        if k == 27:\n",
    "            # cancel process when get \"ESC\"\n",
    "            flag = 0\n",
    "            break\n",
    "        if k == 13:\n",
    "            # finish when get \"ENTER\", but it can only have 2 points\n",
    "            if len(data['points']) == 2:\n",
    "                flag = 1\n",
    "            else:\n",
    "                flag = 2\n",
    "            break\n",
    "        if k == 122:\n",
    "            # restart this image when get \"Z\"\n",
    "            flag = 2\n",
    "            break\n",
    "    \n",
    "    cv2.destroyAllWindows()\n",
    "    \n",
    "    # 回傳點 list\n",
    "    return (flag, data['points'])"
   ]
  },
  {
   "cell_type": "code",
   "execution_count": 13,
   "metadata": {},
   "outputs": [
    {
     "name": "stdout",
     "output_type": "stream",
     "text": [
      "Click on the screen and press any key for end process\n",
      "Img height, width: (600, 800)\n",
      "get points: (x, y) = (335, 320)\n",
      "get points: (x, y) = (563, 264)\n",
      "\n",
      "points list:\n",
      "(2, [(335, 320), (563, 264)])\n"
     ]
    }
   ],
   "source": [
    "#Read the destination image\n",
    "img_dst = cv2.imread(\"./session1_fail/00122.tiff\")\n",
    "\n",
    "print(\"Click on the screen and press any key for end process\")\n",
    "points  = get_points(img_dst)\n",
    "\n",
    "print(\"\\npoints list:\")\n",
    "print(points)"
   ]
  },
  {
   "cell_type": "code",
   "execution_count": 15,
   "metadata": {},
   "outputs": [
    {
     "name": "stdout",
     "output_type": "stream",
     "text": [
      "number of unprocess images:  3\n",
      "Click on the screen and press any key for end process\n",
      "The key selection MUST start from left to right\n",
      "=====01960.tiff=====\n",
      "get points: (x, y) = (198, 145)\n",
      "get points: (x, y) = (454, 45)\n",
      "68.66314070819435\n",
      "[[206.62630435 613.25755289]\n",
      " [206.62630435 338.41941871]]\n",
      "=====05762.tiff=====\n",
      "get points: (x, y) = (439, 88)\n",
      "get points: (x, y) = (657, 141)\n",
      "103.6646003805569\n",
      "[[170.7873286  471.68630664]\n",
      " [170.7873286  247.33613392]]\n",
      "=====05444.tiff=====\n",
      "get points: (x, y) = (389, 40)\n",
      "get points: (x, y) = (581, 59)\n",
      "95.65149488149764\n",
      "[[ 79.84703391 464.05063702]\n",
      " [ 79.84703391 271.1128232 ]]\n"
     ]
    }
   ],
   "source": [
    "import glob, sys\n",
    "\n",
    "#Read the source image\n",
    "source_path = \"./\"\n",
    "save_path = os.path.join(source_path, \"ROIs_possible\")\n",
    "images_path = glob.glob(os.path.join(source_path, \"*.tiff\"))\n",
    "ROIs_path = glob.glob(os.path.join(save_path, \"*.tiff\"))\n",
    "ROI_names = [path[-10:] for path in ROIs_path]\n",
    "unmarked_path = [path for path in images_path if path[-10:] not in ROI_names]\n",
    "print(\"number of unprocess images: \", len(unmarked_path))\n",
    "print(\"Click on the screen and press any key for end process\")\n",
    "print(\"The key selection MUST start from left to right\")\n",
    "\n",
    "for path in unmarked_path:\n",
    "    # until finish\n",
    "    while True:\n",
    "        image_name = path[-10:]\n",
    "        print(\"====={}=====\".format(image_name))\n",
    "        img = cv2.imread(path)\n",
    "        result  = get_points(img, image_name) # return flag and points\n",
    "\n",
    "        if result[0] == 0:\n",
    "            # cancel\n",
    "            sys.exit()\n",
    "        if result[0] == 1:\n",
    "            # finish\n",
    "            extractROI(img, result[1], save_path, image_name)\n",
    "            break\n",
    "        if result[0] == 2:\n",
    "            # restart\n",
    "            pass"
   ]
  },
  {
   "cell_type": "code",
   "execution_count": null,
   "metadata": {},
   "outputs": [],
   "source": []
  },
  {
   "cell_type": "markdown",
   "metadata": {},
   "source": [
    "# Reference\n",
    "\n",
    "https://zhuanlan.zhihu.com/p/143035374\n",
    "\n",
    "https://kknews.cc/code/3oqxejy.html\n",
    "\n",
    "https://blog.csdn.net/fanjiule/article/details/81606596\n",
    "\n",
    "https://blog.csdn.net/yefcion/article/details/79435591"
   ]
  }
 ],
 "metadata": {
  "kernelspec": {
   "display_name": "Python 3 (ipykernel)",
   "language": "python",
   "name": "python3"
  },
  "language_info": {
   "codemirror_mode": {
    "name": "ipython",
    "version": 3
   },
   "file_extension": ".py",
   "mimetype": "text/x-python",
   "name": "python",
   "nbconvert_exporter": "python",
   "pygments_lexer": "ipython3",
   "version": "3.8.10"
  },
  "varInspector": {
   "cols": {
    "lenName": 16,
    "lenType": 16,
    "lenVar": 40
   },
   "kernels_config": {
    "python": {
     "delete_cmd_postfix": "",
     "delete_cmd_prefix": "del ",
     "library": "var_list.py",
     "varRefreshCmd": "print(var_dic_list())"
    },
    "r": {
     "delete_cmd_postfix": ") ",
     "delete_cmd_prefix": "rm(",
     "library": "var_list.r",
     "varRefreshCmd": "cat(var_dic_list()) "
    }
   },
   "types_to_exclude": [
    "module",
    "function",
    "builtin_function_or_method",
    "instance",
    "_Feature"
   ],
   "window_display": false
  }
 },
 "nbformat": 4,
 "nbformat_minor": 4
}
